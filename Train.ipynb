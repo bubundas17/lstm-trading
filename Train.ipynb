{
 "cells": [
  {
   "cell_type": "code",
   "execution_count": 1,
   "source": [
    "from  Dataset import *"
   ],
   "outputs": [],
   "metadata": {}
  },
  {
   "cell_type": "code",
   "execution_count": 2,
   "source": [
    "from Config import *"
   ],
   "outputs": [],
   "metadata": {}
  },
  {
   "cell_type": "code",
   "execution_count": 3,
   "source": [
    "dataset = Dataset()"
   ],
   "outputs": [
    {
     "output_type": "stream",
     "name": "stdout",
     "text": [
      "> Dataset Class Initialized\n",
      ">> loading Data: BTCUSDT\n",
      ">> Data Loaded\n"
     ]
    }
   ],
   "metadata": {
    "scrolled": true
   }
  },
  {
   "cell_type": "code",
   "execution_count": 4,
   "source": [
    "train, test = dataset.ProcessData()"
   ],
   "outputs": [],
   "metadata": {}
  },
  {
   "cell_type": "code",
   "execution_count": 5,
   "source": [
    "train"
   ],
   "outputs": [
    {
     "output_type": "execute_result",
     "data": {
      "text/plain": [
       "                    Low      High      Open     Close    Volume  buy  sell\n",
       "time                                                                      \n",
       "1590949860000  0.107939  0.107586  0.107577  0.107774  0.004642    0     0\n",
       "1590949920000  0.107903  0.107516  0.107587  0.107738  0.003763    0     0\n",
       "1590949980000  0.107699  0.107464  0.107550  0.107519  0.010451    0     0\n",
       "1590950040000  0.107700  0.107321  0.107333  0.107564  0.006700    0     0\n",
       "1590950100000  0.107697  0.107313  0.107384  0.107544  0.006557    0     0\n",
       "...                 ...       ...       ...       ...       ...  ...   ...\n",
       "1609439100000  0.418519  0.417805  0.417842  0.418155  0.009330    0     0\n",
       "1609439160000  0.418846  0.417849  0.418025  0.418158  0.005514    0     0\n",
       "1609439220000  0.418884  0.417859  0.418036  0.418109  0.008732    0     0\n",
       "1609439280000  0.418884  0.418007  0.417986  0.418311  0.011168    0     0\n",
       "1609439340000  0.418885  0.418003  0.418188  0.418373  0.007047    0     0\n",
       "\n",
       "[307599 rows x 7 columns]"
      ],
      "text/html": [
       "<div>\n",
       "<style scoped>\n",
       "    .dataframe tbody tr th:only-of-type {\n",
       "        vertical-align: middle;\n",
       "    }\n",
       "\n",
       "    .dataframe tbody tr th {\n",
       "        vertical-align: top;\n",
       "    }\n",
       "\n",
       "    .dataframe thead th {\n",
       "        text-align: right;\n",
       "    }\n",
       "</style>\n",
       "<table border=\"1\" class=\"dataframe\">\n",
       "  <thead>\n",
       "    <tr style=\"text-align: right;\">\n",
       "      <th></th>\n",
       "      <th>Low</th>\n",
       "      <th>High</th>\n",
       "      <th>Open</th>\n",
       "      <th>Close</th>\n",
       "      <th>Volume</th>\n",
       "      <th>buy</th>\n",
       "      <th>sell</th>\n",
       "    </tr>\n",
       "    <tr>\n",
       "      <th>time</th>\n",
       "      <th></th>\n",
       "      <th></th>\n",
       "      <th></th>\n",
       "      <th></th>\n",
       "      <th></th>\n",
       "      <th></th>\n",
       "      <th></th>\n",
       "    </tr>\n",
       "  </thead>\n",
       "  <tbody>\n",
       "    <tr>\n",
       "      <th>1590949860000</th>\n",
       "      <td>0.107939</td>\n",
       "      <td>0.107586</td>\n",
       "      <td>0.107577</td>\n",
       "      <td>0.107774</td>\n",
       "      <td>0.004642</td>\n",
       "      <td>0</td>\n",
       "      <td>0</td>\n",
       "    </tr>\n",
       "    <tr>\n",
       "      <th>1590949920000</th>\n",
       "      <td>0.107903</td>\n",
       "      <td>0.107516</td>\n",
       "      <td>0.107587</td>\n",
       "      <td>0.107738</td>\n",
       "      <td>0.003763</td>\n",
       "      <td>0</td>\n",
       "      <td>0</td>\n",
       "    </tr>\n",
       "    <tr>\n",
       "      <th>1590949980000</th>\n",
       "      <td>0.107699</td>\n",
       "      <td>0.107464</td>\n",
       "      <td>0.107550</td>\n",
       "      <td>0.107519</td>\n",
       "      <td>0.010451</td>\n",
       "      <td>0</td>\n",
       "      <td>0</td>\n",
       "    </tr>\n",
       "    <tr>\n",
       "      <th>1590950040000</th>\n",
       "      <td>0.107700</td>\n",
       "      <td>0.107321</td>\n",
       "      <td>0.107333</td>\n",
       "      <td>0.107564</td>\n",
       "      <td>0.006700</td>\n",
       "      <td>0</td>\n",
       "      <td>0</td>\n",
       "    </tr>\n",
       "    <tr>\n",
       "      <th>1590950100000</th>\n",
       "      <td>0.107697</td>\n",
       "      <td>0.107313</td>\n",
       "      <td>0.107384</td>\n",
       "      <td>0.107544</td>\n",
       "      <td>0.006557</td>\n",
       "      <td>0</td>\n",
       "      <td>0</td>\n",
       "    </tr>\n",
       "    <tr>\n",
       "      <th>...</th>\n",
       "      <td>...</td>\n",
       "      <td>...</td>\n",
       "      <td>...</td>\n",
       "      <td>...</td>\n",
       "      <td>...</td>\n",
       "      <td>...</td>\n",
       "      <td>...</td>\n",
       "    </tr>\n",
       "    <tr>\n",
       "      <th>1609439100000</th>\n",
       "      <td>0.418519</td>\n",
       "      <td>0.417805</td>\n",
       "      <td>0.417842</td>\n",
       "      <td>0.418155</td>\n",
       "      <td>0.009330</td>\n",
       "      <td>0</td>\n",
       "      <td>0</td>\n",
       "    </tr>\n",
       "    <tr>\n",
       "      <th>1609439160000</th>\n",
       "      <td>0.418846</td>\n",
       "      <td>0.417849</td>\n",
       "      <td>0.418025</td>\n",
       "      <td>0.418158</td>\n",
       "      <td>0.005514</td>\n",
       "      <td>0</td>\n",
       "      <td>0</td>\n",
       "    </tr>\n",
       "    <tr>\n",
       "      <th>1609439220000</th>\n",
       "      <td>0.418884</td>\n",
       "      <td>0.417859</td>\n",
       "      <td>0.418036</td>\n",
       "      <td>0.418109</td>\n",
       "      <td>0.008732</td>\n",
       "      <td>0</td>\n",
       "      <td>0</td>\n",
       "    </tr>\n",
       "    <tr>\n",
       "      <th>1609439280000</th>\n",
       "      <td>0.418884</td>\n",
       "      <td>0.418007</td>\n",
       "      <td>0.417986</td>\n",
       "      <td>0.418311</td>\n",
       "      <td>0.011168</td>\n",
       "      <td>0</td>\n",
       "      <td>0</td>\n",
       "    </tr>\n",
       "    <tr>\n",
       "      <th>1609439340000</th>\n",
       "      <td>0.418885</td>\n",
       "      <td>0.418003</td>\n",
       "      <td>0.418188</td>\n",
       "      <td>0.418373</td>\n",
       "      <td>0.007047</td>\n",
       "      <td>0</td>\n",
       "      <td>0</td>\n",
       "    </tr>\n",
       "  </tbody>\n",
       "</table>\n",
       "<p>307599 rows × 7 columns</p>\n",
       "</div>"
      ]
     },
     "metadata": {},
     "execution_count": 5
    }
   ],
   "metadata": {
    "scrolled": true
   }
  },
  {
   "cell_type": "code",
   "execution_count": null,
   "source": [
    "def make_seq(df):\r\n",
    "    seq_data = []\r\n",
    "    deq = deque(maxlen=LOOK_BACK_LEN)\r\n",
    "    for index, row in df.iterrows():\r\n",
    "        deq.append(row[:len(df.columns)-2].values)\r\n",
    "#         print(row[:len(df.columns)-2].values)\r\n",
    "        if len(deq) == LOOK_BACK_LEN:\r\n",
    "#             print(row[len(df.columns)-2:].values)\r\n",
    "            seq_data.append([ np.array(list(deq)),  np.array(row[len(df.columns)-2:].values) ])\r\n",
    "    return seq_data"
   ],
   "outputs": [],
   "metadata": {}
  },
  {
   "cell_type": "code",
   "execution_count": null,
   "source": [
    "def split_xy(arr):\r\n",
    "    x = []\r\n",
    "    y = []\r\n",
    "\r\n",
    "    for seq, target in train_seq:\r\n",
    "        x.append(seq)\r\n",
    "        y.append(target)\r\n",
    "\r\n",
    "    x = np.array(x)\r\n",
    "    y = np.array(y)\r\n",
    "    return x,y"
   ],
   "outputs": [],
   "metadata": {}
  },
  {
   "cell_type": "code",
   "execution_count": null,
   "source": [
    "train_seq  = make_seq(train)\r\n"
   ],
   "outputs": [],
   "metadata": {
    "scrolled": true
   }
  },
  {
   "cell_type": "code",
   "execution_count": null,
   "source": [
    "print(train_seq[0])"
   ],
   "outputs": [],
   "metadata": {}
  },
  {
   "cell_type": "code",
   "execution_count": null,
   "source": [],
   "outputs": [],
   "metadata": {}
  },
  {
   "cell_type": "code",
   "execution_count": null,
   "source": [
    "print(x.shape)\r\n",
    "print(y.shape)"
   ],
   "outputs": [],
   "metadata": {}
  },
  {
   "cell_type": "code",
   "execution_count": 6,
   "source": [
    "from keras.preprocessing.sequence import TimeseriesGenerator\r\n",
    "from tensorflow.keras.layers import Dense, Dropout, LSTM, BatchNormalization\r\n",
    "from tensorflow.keras import Sequential\r\n",
    "import tensorflow as tf"
   ],
   "outputs": [],
   "metadata": {}
  },
  {
   "cell_type": "code",
   "execution_count": 10,
   "source": [
    "ts_generator = TimeseriesGenerator(train[[*train.columns[:len(train.columns)-2]]].values, train[[*train.columns[-1:]]].values, length=LOOK_BACK_LEN, sampling_rate=1, batch_size=50)"
   ],
   "outputs": [],
   "metadata": {}
  },
  {
   "cell_type": "code",
   "execution_count": 15,
   "source": [],
   "outputs": [
    {
     "output_type": "execute_result",
     "data": {
      "text/plain": [
       "5"
      ]
     },
     "metadata": {},
     "execution_count": 15
    }
   ],
   "metadata": {}
  },
  {
   "cell_type": "code",
   "execution_count": 16,
   "source": [
    "model = Sequential()\r\n",
    "model.add(LSTM(128, input_shape=(360,len(ts_generator[0][0][0][0])), return_sequences=True))\r\n",
    "model.add(Dropout(0.2))\r\n",
    "model.add(BatchNormalization())  #normalizes activation outputs, same reason you want to normalize your input data.\r\n",
    "\r\n",
    "model.add(LSTM(128, return_sequences=True))\r\n",
    "model.add(Dropout(0.1))\r\n",
    "model.add(BatchNormalization())\r\n",
    "\r\n",
    "model.add(LSTM(128))\r\n",
    "model.add(Dropout(0.2))\r\n",
    "model.add(BatchNormalization())\r\n",
    "\r\n",
    "model.add(Dense(32, activation='relu'))\r\n",
    "model.add(Dropout(0.2))\r\n",
    "\r\n",
    "model.add(Dense(2, activation='softmax'))"
   ],
   "outputs": [],
   "metadata": {}
  },
  {
   "cell_type": "code",
   "execution_count": 17,
   "source": [
    "opt = tf.keras.optimizers.Adam(lr=0.001, decay=1e-6)\r\n",
    "\r\n",
    "# Compile model\r\n",
    "model.compile(\r\n",
    "    loss='categorical_crossentropy',\r\n",
    "    optimizer=opt,\r\n",
    "    metrics=['accuracy']\r\n",
    ")"
   ],
   "outputs": [
    {
     "output_type": "stream",
     "name": "stderr",
     "text": [
      "C:\\ProgramData\\Anaconda3\\lib\\site-packages\\keras\\optimizer_v2\\optimizer_v2.py:355: UserWarning: The `lr` argument is deprecated, use `learning_rate` instead.\n",
      "  warnings.warn(\n"
     ]
    }
   ],
   "metadata": {}
  },
  {
   "cell_type": "code",
   "execution_count": null,
   "source": [
    "model.fit(\r\n",
    "    ts_generator,\r\n",
    "    epochs=20,\r\n",
    "    shuffle=False\r\n",
    ")\r\n"
   ],
   "outputs": [],
   "metadata": {}
  }
 ],
 "metadata": {
  "kernelspec": {
   "name": "python3",
   "display_name": "Python 3.8.8 64-bit ('base': conda)"
  },
  "language_info": {
   "codemirror_mode": {
    "name": "ipython",
    "version": 3
   },
   "file_extension": ".py",
   "mimetype": "text/x-python",
   "name": "python",
   "nbconvert_exporter": "python",
   "pygments_lexer": "ipython3",
   "version": "3.8.8"
  },
  "interpreter": {
   "hash": "b3ba2566441a7c06988d0923437866b63cedc61552a5af99d1f4fb67d367b25f"
  }
 },
 "nbformat": 4,
 "nbformat_minor": 5
}